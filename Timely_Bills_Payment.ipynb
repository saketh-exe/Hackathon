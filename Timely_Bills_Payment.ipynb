{
  "nbformat": 4,
  "nbformat_minor": 0,
  "metadata": {
    "colab": {
      "provenance": []
    },
    "kernelspec": {
      "name": "python3",
      "display_name": "Python 3"
    },
    "language_info": {
      "name": "python"
    }
  },
  "cells": [
    {
      "cell_type": "markdown",
      "source": [
        "# Importing the requiredd libraries"
      ],
      "metadata": {
        "id": "NSKRQRD4LWF4"
      }
    },
    {
      "cell_type": "code",
      "source": [
        "import pandas as pd\n",
        "from sklearn.model_selection import train_test_split\n",
        "from sklearn.preprocessing import StandardScaler, LabelEncoder\n",
        "from sklearn.linear_model import LogisticRegression\n",
        "from sklearn.metrics import classification_report, accuracy_score"
      ],
      "metadata": {
        "id": "JEDZq-cdK-ud"
      },
      "execution_count": null,
      "outputs": []
    },
    {
      "cell_type": "markdown",
      "source": [
        "# Loading and Preprocessing the Data"
      ],
      "metadata": {
        "id": "cPWci2OtLvrj"
      }
    },
    {
      "cell_type": "code",
      "source": [
        "# Load the dataset from a CSV file into a pandas DataFrame\n",
        "df = pd.read_csv('synthetic_bill_payment_data.csv')\n",
        "\n",
        "# Handle categorical variables by applying Label Encoding\n",
        "# 'marital_status' is a categorical column, converting it into numeric format for ML algorithms\n",
        "label_encoder = LabelEncoder()\n",
        "df['marital_status'] = label_encoder.fit_transform(df['marital_status'])\n",
        "\n",
        "# 'social_media_sentiment' is another categorical column, also converted into numeric format\n",
        "df['social_media_sentiment'] = label_encoder.fit_transform(df['social_media_sentiment'])\n"
      ],
      "metadata": {
        "id": "CdAbAyudLCUP"
      },
      "execution_count": null,
      "outputs": []
    },
    {
      "cell_type": "markdown",
      "source": [
        "# Defining Features and Target Variable\n"
      ],
      "metadata": {
        "id": "x3XR_xWeL2ks"
      }
    },
    {
      "cell_type": "code",
      "source": [
        "# Define the features (X) and target variable (y)\n",
        "# 'user_id' is not relevant for prediction, so we drop it along with the target column 'on_time_payment'\n",
        "X = df.drop(['user_id', 'on_time_payment'], axis=1)  # Features\n",
        "y = df['on_time_payment']  # Target variable (1 = on-time, 0 = late)"
      ],
      "metadata": {
        "id": "IInJqOUfLFf_"
      },
      "execution_count": null,
      "outputs": []
    },
    {
      "cell_type": "markdown",
      "source": [
        "# Splitting Data into Training and Testing Sets"
      ],
      "metadata": {
        "id": "-hRHAYJyMHhK"
      }
    },
    {
      "cell_type": "code",
      "source": [
        "X = df.drop(['user_id', 'on_time_payment'], axis=1)  # Drop 'user_id' and target column\n",
        "y = df['on_time_payment']\n",
        "\n",
        "# Split the data into training and testing sets\n",
        "X_train, X_test, y_train, y_test = train_test_split(X, y, test_size=0.2, random_state=42)"
      ],
      "metadata": {
        "id": "mQJqJZlNLJrQ"
      },
      "execution_count": null,
      "outputs": []
    },
    {
      "cell_type": "code",
      "source": [
        "# Split the data into training and testing sets\n",
        "# 80% of the data will be used for training, and 20% will be used for testing the model\n",
        "X_train, X_test, y_train, y_test = train_test_split(X, y, test_size=0.2, random_state=42)"
      ],
      "metadata": {
        "id": "Y9jJ4dquLN6_"
      },
      "execution_count": null,
      "outputs": []
    },
    {
      "cell_type": "code",
      "source": [
        "# Scale the features using StandardScaler\n",
        "# This is necessary to ensure that the features are on a similar scale, which improves model performance\n",
        "scaler = StandardScaler()\n",
        "X_train_scaled = scaler.fit_transform(X_train)  # Fit and transform the training set\n",
        "X_test_scaled = scaler.transform(X_test)  # Only transform the test set (don't fit again)\n"
      ],
      "metadata": {
        "id": "EuJ35ewnLQQJ"
      },
      "execution_count": null,
      "outputs": []
    },
    {
      "cell_type": "code",
      "source": [
        "# Create a logistic regression model\n",
        "model = LogisticRegression()\n",
        "\n",
        "# Train the model using the scaled training data\n",
        "model.fit(X_train_scaled, y_train)\n"
      ],
      "metadata": {
        "id": "73VUTQQQMBAr"
      },
      "execution_count": null,
      "outputs": []
    },
    {
      "cell_type": "code",
      "source": [
        "# Make predictions on the test set\n",
        "y_pred = model.predict(X_test_scaled)\n",
        "\n",
        "# Evaluate the model's performance\n",
        "# Calculate accuracy and print a detailed classification report (precision, recall, f1-score, etc.)\n",
        "accuracy = accuracy_score(y_test, y_pred)\n",
        "print(f'Accuracy: {accuracy:.2f}')  # Print the accuracy of the model\n",
        "\n",
        "# Print a detailed classification report\n",
        "print('\\nClassification Report:\\n', classification_report(y_test, y_pred))\n"
      ],
      "metadata": {
        "id": "KOYrEs5GMCZs"
      },
      "execution_count": null,
      "outputs": []
    }
  ]
}