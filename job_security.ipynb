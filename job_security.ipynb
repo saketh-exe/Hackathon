{
  "nbformat": 4,
  "nbformat_minor": 0,
  "metadata": {
    "colab": {
      "provenance": []
    },
    "kernelspec": {
      "name": "python3",
      "display_name": "Python 3"
    },
    "language_info": {
      "name": "python"
    }
  },
  "cells": [
    {
      "cell_type": "markdown",
      "source": [
        "Importing Libraries\n",
        "First, we import the necessary libraries required for data handling, machine learning, and model evaluation:"
      ],
      "metadata": {
        "id": "AVr6lweoLJki"
      }
    },
    {
      "cell_type": "code",
      "source": [
        "import random\n",
        "import pandas as pd\n",
        "from sklearn.model_selection import train_test_split\n",
        "from sklearn.preprocessing import StandardScaler, OneHotEncoder\n",
        "from sklearn.compose import ColumnTransformer\n",
        "from sklearn.pipeline import Pipeline\n",
        "from sklearn.impute import SimpleImputer\n",
        "from sklearn.linear_model import LogisticRegression\n",
        "from sklearn.metrics import accuracy_score, confusion_matrix, classification_report\n",
        "from sklearn.ensemble import RandomForestClassifier\n",
        "\n"
      ],
      "metadata": {
        "id": "rZwBiSvJAUrC"
      },
      "execution_count": 2,
      "outputs": []
    },
    {
      "cell_type": "markdown",
      "source": [
        "Sample Employee Data\n",
        "We define a sample employee's data, which we will use later to predict whether the employee will be promoted."
      ],
      "metadata": {
        "id": "5d4264vuLOVl"
      }
    },
    {
      "cell_type": "code",
      "source": [
        "# Sample employee data\n",
        "sample_employee = {\n",
        "    \"Job Title\": \"Software Engineer\",\n",
        "    \"Years in Role\": 5,\n",
        "    \"Performance Rating\": 8,\n",
        "    \"Satisfaction Level\": 7,\n",
        "    \"Job Stability\": \"Yes\",\n",
        "    \"Salary Growth Rate\": 12.5,\n",
        "}\n",
        "\n",
        "# Load the synthetic dataset (use the pre-existing df variable)\n",
        "df = pd.read_csv(\"synthetic_employee_promotion_data.csv\")\n",
        "\n",
        "\n",
        "\n"
      ],
      "metadata": {
        "id": "6-IWHvTOJLjq"
      },
      "execution_count": 3,
      "outputs": []
    },
    {
      "cell_type": "markdown",
      "source": [
        "Data Preprocessing: Encoding, Missing Values, Scaling\n",
        "We separate the features (X) and the target variable (y) from the dataset. The target variable Promotion is converted into binary values (1 for \"Yes\" and 0 for \"No\"). We also handle missing values and scale the numerical features while encoding the categorical features:"
      ],
      "metadata": {
        "id": "Jx67ZB6rLb9D"
      }
    },
    {
      "cell_type": "code",
      "source": [
        "# Preprocess data: Encoding, missing values, scaling\n",
        "X = df.drop('Promotion', axis=1)\n",
        "y = df['Promotion'].apply(lambda x: 1 if x == 'Yes' else 0)  # Convert labels to binary (0 or 1)\n",
        "\n",
        "# Split the data into training and testing sets\n",
        "X_train, X_test, y_train, y_test = train_test_split(X, y, test_size=0.2, random_state=42)\n",
        "\n"
      ],
      "metadata": {
        "id": "9kEyzjJjJRkg"
      },
      "execution_count": 4,
      "outputs": []
    },
    {
      "cell_type": "markdown",
      "source": [
        "Preprocessing Pipeline\n",
        "We define a column transformer to handle both numerical and categorical columns. Numerical columns are imputed with the mean and scaled, while categorical columns are imputed with the most frequent value and one-hot encoded:"
      ],
      "metadata": {
        "id": "bJ0FvSenLg5a"
      }
    },
    {
      "cell_type": "code",
      "source": [
        "# Define a column transformer to handle categorical and numerical columns separately\n",
        "preprocessor = ColumnTransformer(\n",
        "    transformers=[\n",
        "        ('num', Pipeline(steps=[\n",
        "            ('imputer', SimpleImputer(strategy='mean')),  # Handle missing values in numerical columns\n",
        "            ('scaler', StandardScaler())  # Scale numerical data\n",
        "        ]), ['Years in Role', 'Performance Rating', 'Satisfaction Level', 'Salary Growth Rate']),\n",
        "\n",
        "        ('cat', Pipeline(steps=[\n",
        "            ('imputer', SimpleImputer(strategy='most_frequent')),  # Handle missing values in categorical columns\n",
        "            ('onehot', OneHotEncoder(handle_unknown='ignore'))  # One-hot encode categorical data\n",
        "        ]), ['Job Title', 'Job Stability'])\n",
        "    ])\n",
        "\n",
        "# Create a pipeline with preprocessing and the model\n",
        "model_pipeline = Pipeline(steps=[\n",
        "    ('preprocessor', preprocessor),\n",
        "    ('classifier', LogisticRegression(max_iter=500, random_state=42))\n",
        "])\n",
        "\n"
      ],
      "metadata": {
        "id": "OBwTc70eJnOp"
      },
      "execution_count": 6,
      "outputs": []
    },
    {
      "cell_type": "markdown",
      "source": [
        "Creating the Model Pipeline\n",
        "We create a pipeline that first preprocesses the data (imputation, scaling, encoding) and then applies a logistic regression model:"
      ],
      "metadata": {
        "id": "M9OvlAurLkpL"
      }
    },
    {
      "cell_type": "code",
      "source": [
        "# Fit the model\n",
        "model_pipeline.fit(X_train, y_train)\n",
        "\n",
        "# Convert sample employee data into a DataFrame (so it matches the model input format)\n",
        "sample_df = pd.DataFrame([sample_employee])\n",
        "\n",
        "\n"
      ],
      "metadata": {
        "id": "_WW7XgWPJtiu"
      },
      "execution_count": 7,
      "outputs": []
    },
    {
      "cell_type": "markdown",
      "source": [
        "Predicting the Sample Employee's Promotion\n",
        "We convert the sample employee data into a DataFrame and use the trained model to predict whether the sample employee will be promoted:"
      ],
      "metadata": {
        "id": "zzNGslz8LpxQ"
      }
    },
    {
      "cell_type": "code",
      "source": [
        "# Use the trained model to predict the promotion (1 = Yes, 0 = No)\n",
        "predicted_promotion = model_pipeline.predict(sample_df)\n",
        "\n",
        "print(predicted_promotion)\n",
        "\n",
        "\n",
        "# Evaluate the model on the test data\n",
        "y_pred = model_pipeline.predict(X_test)\n",
        "accuracy = accuracy_score(y_test, y_pred)\n",
        "conf_matrix = confusion_matrix(y_test, y_pred)\n",
        "class_report = classification_report(y_test, y_pred)\n",
        "\n",
        "print(f\"Accuracy Score on Test Data: {accuracy}\")\n",
        "print(f\"Confusion Matrix:\\n{conf_matrix}\")\n",
        "print(f\"Classification Report:\\n{class_report}\")"
      ],
      "metadata": {
        "colab": {
          "base_uri": "https://localhost:8080/"
        },
        "id": "ot3sUrlHJxl8",
        "outputId": "33599934-f91f-4ed7-94c3-359cedbff016"
      },
      "execution_count": 8,
      "outputs": [
        {
          "output_type": "stream",
          "name": "stdout",
          "text": [
            "[0]\n",
            "Accuracy Score on Test Data: 0.71\n",
            "Confusion Matrix:\n",
            "[[142   0]\n",
            " [ 58   0]]\n",
            "Classification Report:\n",
            "              precision    recall  f1-score   support\n",
            "\n",
            "           0       0.71      1.00      0.83       142\n",
            "           1       0.00      0.00      0.00        58\n",
            "\n",
            "    accuracy                           0.71       200\n",
            "   macro avg       0.35      0.50      0.42       200\n",
            "weighted avg       0.50      0.71      0.59       200\n",
            "\n"
          ]
        },
        {
          "output_type": "stream",
          "name": "stderr",
          "text": [
            "/usr/local/lib/python3.10/dist-packages/sklearn/metrics/_classification.py:1565: UndefinedMetricWarning: Precision is ill-defined and being set to 0.0 in labels with no predicted samples. Use `zero_division` parameter to control this behavior.\n",
            "  _warn_prf(average, modifier, f\"{metric.capitalize()} is\", len(result))\n",
            "/usr/local/lib/python3.10/dist-packages/sklearn/metrics/_classification.py:1565: UndefinedMetricWarning: Precision is ill-defined and being set to 0.0 in labels with no predicted samples. Use `zero_division` parameter to control this behavior.\n",
            "  _warn_prf(average, modifier, f\"{metric.capitalize()} is\", len(result))\n",
            "/usr/local/lib/python3.10/dist-packages/sklearn/metrics/_classification.py:1565: UndefinedMetricWarning: Precision is ill-defined and being set to 0.0 in labels with no predicted samples. Use `zero_division` parameter to control this behavior.\n",
            "  _warn_prf(average, modifier, f\"{metric.capitalize()} is\", len(result))\n"
          ]
        }
      ]
    }
  ]
}